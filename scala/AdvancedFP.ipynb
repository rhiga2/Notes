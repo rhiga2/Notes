{
 "cells": [
  {
   "cell_type": "markdown",
   "metadata": {},
   "source": [
    "# Advanced Functional Programming"
   ]
  },
  {
   "cell_type": "markdown",
   "metadata": {},
   "source": [
    "## Monads\n",
    "```\n",
    "trait Monad[A] {\n",
    "    def unit(x: A): Monad[A] // also called apply\n",
    "    def flatMap(f: A => Monad[A]): Monad[A] // also called bind\n",
    "}\n",
    "```\n",
    "Monads must satify the following laws: \n",
    "* Left Identity: `unit(x).flatMap(f) = f(x)`\n",
    "* Right Identity: `m.flatMap(unit) = m`\n",
    "* Associativity: `m.flatMap(f).flatMap(g) = m.flatMap(x => f(x).flatMap(g))`"
   ]
  },
  {
   "cell_type": "code",
   "execution_count": null,
   "metadata": {},
   "outputs": [],
   "source": []
  }
 ],
 "metadata": {
  "kernelspec": {
   "display_name": "Scala",
   "language": "scala",
   "name": "scala"
  },
  "language_info": {
   "codemirror_mode": "text/x-scala",
   "file_extension": ".scala",
   "mimetype": "text/x-scala",
   "name": "scala",
   "nbconvert_exporter": "script",
   "version": "2.12.10"
  }
 },
 "nbformat": 4,
 "nbformat_minor": 4
}
