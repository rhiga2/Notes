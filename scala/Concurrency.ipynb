{
 "cells": [
  {
   "cell_type": "markdown",
   "metadata": {},
   "source": [
    "# Concurrency in Scala"
   ]
  },
  {
   "cell_type": "code",
   "execution_count": 8,
   "metadata": {},
   "outputs": [
    {
     "data": {
      "text/plain": [
       "\u001b[32mimport \u001b[39m\u001b[36mjava.util.concurrent.Executors\u001b[39m"
      ]
     },
     "execution_count": 8,
     "metadata": {},
     "output_type": "execute_result"
    }
   ],
   "source": [
    "import java.util.concurrent.Executors"
   ]
  },
  {
   "cell_type": "markdown",
   "metadata": {},
   "source": [
    "## JVM Threads\n",
    "### Threads"
   ]
  },
  {
   "cell_type": "code",
   "execution_count": 7,
   "metadata": {},
   "outputs": [
    {
     "name": "stdout",
     "output_type": "stream",
     "text": [
      "Printing in thread with Runnable object\n",
      "Printing in thread with lambda function\n"
     ]
    },
    {
     "data": {
      "text/plain": [
       "\u001b[36mthread1\u001b[39m: \u001b[32mThread\u001b[39m = Thread[Thread-7,5,]\n",
       "\u001b[36mthread2\u001b[39m: \u001b[32mThread\u001b[39m = Thread[Thread-8,5,]"
      ]
     },
     "execution_count": 7,
     "metadata": {},
     "output_type": "execute_result"
    }
   ],
   "source": [
    "val thread1 = new Thread(new Runnable {\n",
    "    override def run(): Unit = println(\"Printing in thread with Runnable object\")\n",
    "})\n",
    "thread1.start()\n",
    "\n",
    "// We can also pass in a lambda function instead of a Runnable\n",
    "val thread2 = new Thread(() => println(\"Printing in thread with lambda function\"))\n",
    "thread2.start()"
   ]
  },
  {
   "cell_type": "markdown",
   "metadata": {},
   "source": [
    "### Executors"
   ]
  },
  {
   "cell_type": "code",
   "execution_count": 10,
   "metadata": {},
   "outputs": [
    {
     "name": "stdout",
     "output_type": "stream",
     "text": [
      "Print in thread pool\n"
     ]
    },
    {
     "data": {
      "text/plain": [
       "\u001b[36mpool\u001b[39m: \u001b[32mjava\u001b[39m.\u001b[32mutil\u001b[39m.\u001b[32mconcurrent\u001b[39m.\u001b[32mExecutorService\u001b[39m = java.util.concurrent.ThreadPoolExecutor@5af403d8[Terminated, pool size = 0, active threads = 0, queued tasks = 0, completed tasks = 1]"
      ]
     },
     "execution_count": 10,
     "metadata": {},
     "output_type": "execute_result"
    }
   ],
   "source": [
    "val pool = Executors.newFixedThreadPool(10)\n",
    "pool.execute(() => println(\"Print in thread pool\"))\n",
    "pool.shutdown() // Should not be able to execute in thread pool after shutdown"
   ]
  },
  {
   "cell_type": "markdown",
   "metadata": {},
   "source": [
    "### Dealing With Race Conditions"
   ]
  },
  {
   "cell_type": "code",
   "execution_count": null,
   "metadata": {},
   "outputs": [],
   "source": [
    "// Use synchronized block. Only AnyRef support synchronized blocks\n",
    "// Use @volatile annotation"
   ]
  },
  {
   "cell_type": "markdown",
   "metadata": {},
   "source": [
    "### Communication Between Threads\n",
    "**The producer consumer problem**:"
   ]
  },
  {
   "cell_type": "code",
   "execution_count": null,
   "metadata": {},
   "outputs": [],
   "source": []
  }
 ],
 "metadata": {
  "kernelspec": {
   "display_name": "Scala",
   "language": "scala",
   "name": "scala"
  },
  "language_info": {
   "codemirror_mode": "text/x-scala",
   "file_extension": ".scala",
   "mimetype": "text/x-scala",
   "name": "scala",
   "nbconvert_exporter": "script",
   "version": "2.12.10"
  }
 },
 "nbformat": 4,
 "nbformat_minor": 4
}
